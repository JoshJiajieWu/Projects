{
 "cells": [
  {
   "cell_type": "code",
   "execution_count": null,
   "id": "57524d9c-5170-41c3-94cd-bbdb666ff9e8",
   "metadata": {
    "scrolled": true
   },
   "outputs": [],
   "source": [
    "from bs4 import BeautifulSoup\n",
    "import requests\n",
    "import pandas as pd\n",
    "import re"
   ]
  },
  {
   "cell_type": "code",
   "execution_count": null,
   "id": "16d4678a-0b93-405c-a5a3-a2265b0a24f8",
   "metadata": {},
   "outputs": [],
   "source": [
    "url = 'http://www.analytictech.com/mb021/mlk.htm'\n",
    "\n",
    "page = requests.get(url)\n",
    "\n",
    "soup = BeautifulSoup(page.text,'html')\n",
    "\n",
    "mlkj_speech = soup.find_all('p')\n",
    "\n",
    "speech_combined = [ p.text for p in mlkj_speech]\n",
    "\n",
    "' '.join(speech_combined)\n",
    "\n",
    "string_speech = ' '.join(speech_combined)\n",
    "\n",
    "string_speech_cleaned = string_speech.replace('\\r\\n',' ')\n",
    "\n",
    "speech_no_punct = re.sub(r'[^\\w\\s]','',string_speech_cleaned)\n",
    "\n",
    "speech_lower = speech_no_punct.lower()\n",
    "\n",
    "speech_broken_out = re.split(r'\\s+',speech_lower)\n"
   ]
  }
 ],
 "metadata": {
  "kernelspec": {
   "display_name": "Python 3 (ipykernel)",
   "language": "python",
   "name": "python3"
  },
  "language_info": {
   "codemirror_mode": {
    "name": "ipython",
    "version": 3
   },
   "file_extension": ".py",
   "mimetype": "text/x-python",
   "name": "python",
   "nbconvert_exporter": "python",
   "pygments_lexer": "ipython3",
   "version": "3.11.5"
  }
 },
 "nbformat": 4,
 "nbformat_minor": 5
}
