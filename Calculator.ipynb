{
 "cells": [
  {
   "cell_type": "markdown",
   "id": "5e23ec54-b432-4c70-ba96-6f1e2dd7b3d5",
   "metadata": {},
   "source": [
    "# "
   ]
  },
  {
   "cell_type": "code",
   "execution_count": 16,
   "id": "69565ee7-8fd7-4a55-9f74-7554eb845d70",
   "metadata": {},
   "outputs": [],
   "source": [
    "def add(x,y):\n",
    "    return x + y\n",
    "    \n",
    "def subtract(x,y):\n",
    "    return x - y\n",
    "    \n",
    "def multiply(x,y):\n",
    "    return x*  y\n",
    "\n",
    "def divide(x,y):\n",
    "    return x / y\n"
   ]
  },
  {
   "cell_type": "code",
   "execution_count": 24,
   "id": "502d5a48-2624-4826-bb39-c6e85d3670c0",
   "metadata": {},
   "outputs": [
    {
     "name": "stdout",
     "output_type": "stream",
     "text": [
      "Enter \"A\" for Addition.\n",
      "Enter \"S\" for Subtraction.\n",
      "Enter \"M\" for Multiplication.\n",
      "Enter \"D\" for Division.\n"
     ]
    },
    {
     "name": "stdin",
     "output_type": "stream",
     "text": [
      "Enter Choice: (Add, Subtract, Multiply, Divide):  s\n",
      "Enter first: number  53.4\n",
      "Enter second number:  2404.4\n"
     ]
    },
    {
     "name": "stdout",
     "output_type": "stream",
     "text": [
      "53.4 - 2404.4 = -2351.0\n"
     ]
    },
    {
     "name": "stdin",
     "output_type": "stream",
     "text": [
      "Want to keep using calculator? (y/n):  yes\n",
      "Enter Choice: (Add, Subtract, Multiply, Divide):  m\n",
      "Enter first: number  10\n",
      "Enter second number:  4\n"
     ]
    },
    {
     "name": "stdout",
     "output_type": "stream",
     "text": [
      "10.0 * 4.0 = 40.0\n"
     ]
    },
    {
     "name": "stdin",
     "output_type": "stream",
     "text": [
      "Want to keep using calculator? (y/n):  n\n"
     ]
    }
   ],
   "source": [
    "print('Enter \"A\" for Addition.')\n",
    "print('Enter \"S\" for Subtraction.')\n",
    "print('Enter \"M\" for Multiplication.')\n",
    "print('Enter \"D\" for Division.')\n",
    "\n",
    "\n",
    "while True:\n",
    "    choice = input('Enter Choice: (Add, Subtract, Multiply, Divide): ')\n",
    "    if choice.upper() in ('A','ADD','ADDITION','S','SUBTRACT','SUB','M','MULTIPLY','MULT','D','DIVIDE','DIV'):\n",
    "        num1 = float(input('Enter first: number '))\n",
    "        num2 = float(input('Enter second number: '))\n",
    "    \n",
    "        if choice.upper() in ('A','ADD','ADDITION'):\n",
    "            print(num1, '+', num2, '=', add(num1,num2))\n",
    "            \n",
    "        elif choice.upper() in ('S','SUBTRACT','SUB'):\n",
    "            print(num1, '-', num2, '=', subtract(num1,num2))\n",
    "            \n",
    "        elif choice.upper() in ('M','MULTIPLY','MULT'):\n",
    "            print(num1, '*', num2, '=', multiply(num1,num2))\n",
    "            \n",
    "        elif choice.upper() in ('D','DIVIDE','DIV'):\n",
    "            print(num1, '/', num2, '=', divide(num1,num2))\n",
    "    \n",
    "    else:\n",
    "        print('Please input a correct choice.')\n",
    "\n",
    "    next_calculation = input('Want to keep using calculator? (y/n): ')\n",
    "    if next_calculation.lower() in ('no','n'):\n",
    "        break\n",
    "        "
   ]
  },
  {
   "cell_type": "code",
   "execution_count": null,
   "id": "b439c7af-ceb1-4062-ab40-1e8c4ecef17b",
   "metadata": {},
   "outputs": [],
   "source": []
  },
  {
   "cell_type": "code",
   "execution_count": null,
   "id": "58366fb4-965a-4603-8a2e-c94a0895e0f5",
   "metadata": {},
   "outputs": [],
   "source": []
  }
 ],
 "metadata": {
  "kernelspec": {
   "display_name": "Python 3 (ipykernel)",
   "language": "python",
   "name": "python3"
  },
  "language_info": {
   "codemirror_mode": {
    "name": "ipython",
    "version": 3
   },
   "file_extension": ".py",
   "mimetype": "text/x-python",
   "name": "python",
   "nbconvert_exporter": "python",
   "pygments_lexer": "ipython3",
   "version": "3.11.5"
  }
 },
 "nbformat": 4,
 "nbformat_minor": 5
}
