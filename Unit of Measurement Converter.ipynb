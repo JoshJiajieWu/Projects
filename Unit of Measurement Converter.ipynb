{
 "cells": [
  {
   "cell_type": "code",
   "execution_count": 1,
   "id": "a8c9b27c-5d0c-4769-920d-89a747edef88",
   "metadata": {},
   "outputs": [
    {
     "name": "stdin",
     "output_type": "stream",
     "text": [
      "Enter starting unit of measurement(inches,feet or yards):  inches\n",
      "Enter unit of measurement to convert to(inches,feet or yards):  feet\n",
      "Enter starting measurement in inches:  24\n",
      "Enter starting measurement in feet:  3\n",
      "Enter starting measurement in yards:  1\n"
     ]
    }
   ],
   "source": [
    "convert_from = input('Enter starting unit of measurement(inches,feet or yards): ')\n",
    "\n",
    "convert_to = input('Enter unit of measurement to convert to(inches,feet or yards): ')\n",
    "\n",
    "number_of_inches = input('Enter starting measurement in inches: ')\n",
    "\n",
    "number_of_feet = input('Enter starting measurement in feet: ')\n",
    "\n",
    "number_of_yards = input('Enter starting measurement in yards: ')"
   ]
  },
  {
   "cell_type": "code",
   "execution_count": 36,
   "id": "f5bfd410-4ca6-40ba-9e51-f5066683b8e2",
   "metadata": {},
   "outputs": [
    {
     "name": "stdin",
     "output_type": "stream",
     "text": [
      "Enter starting unit of measurement(inches,feet or yards):  in\n",
      "Enter unit of measurement to convert to(inches,feet or yards):  ft\n",
      "Enter starting measurement in inches:  36\n"
     ]
    },
    {
     "name": "stdout",
     "output_type": "stream",
     "text": [
      "Results: 36 Inches = 3.0 Feet\n"
     ]
    }
   ],
   "source": [
    "convert_from = input('Enter starting unit of measurement(inches,feet or yards): ')\n",
    "\n",
    "convert_to = input('Enter unit of measurement to convert to(inches,feet or yards): ')\n",
    "\n",
    "if convert_from.lower() in['inches','in','inch']:\n",
    "    number_of_inches = int(input('Enter starting measurement in inches: '))\n",
    "    if convert_to.lower() in ['feet','foot','ft']:\n",
    "        print('Results: ' + str(number_of_inches) + ' Inches = ' + str(round(number_of_inches / 12,2)) + ' Feet')\n",
    "    elif convert_to.lower() in ['yards','yard','yds','yd']:\n",
    "        print('Results: ' + str(number_of_inches) + ' Inches = ' + str(round(number_of_inches / 36,2)) + ' Yards')\n",
    "    else:\n",
    "        print('Please enter inches, feet or yards.')\n",
    "elif convert_from.lower() in ['feet','foot','ft']:\n",
    "    number_of_feet = int(input('Enter starting measurement in feet: '))\n",
    "    if convert_to.lower() in ['inches','in','inch']:\n",
    "        print('Results: ' + str(number_of_feet) + ' Feet = ' + str(round(number_of_feet * 12)) + ' Inches')\n",
    "    elif convert_to.lower() in ['yards','yard','yds','yd']:\n",
    "        print('Results: ' + str(number_of_feet) + ' Feet = ' + str(round(number_of_feet / 3,2)), + ' Yards')\n",
    "    else:\n",
    "        print('Please enter inches, feet or yards.')\n",
    "elif convert_from.lower() in ['yards','yard','yds','yd']:\n",
    "    number_of_yards = int(input('Enter starting measurement in yards: '))\n",
    "    if convert_to.lower() in ['inches','in','inch']:\n",
    "        print('Results: ' + str(number_of_yards) + ' Yards = ' + str(round(number_of_yards * 36)) + ' Inches')\n",
    "    elif convert_to.lower() in ['feet','foot','ft']:\n",
    "        print('Results: ' + str(number_of_yards) + ' Yards = ' + str(round(number_of_yards * 3)) + ' Feet')\n",
    "    else:\n",
    "        print('Please enter inches, feet or yards.')\n",
    "else:\n",
    "    print('Please enter inches, feet or yards.')\n",
    "        "
   ]
  },
  {
   "cell_type": "code",
   "execution_count": null,
   "id": "8595704b-eb99-4471-b54e-089036628a26",
   "metadata": {},
   "outputs": [],
   "source": []
  }
 ],
 "metadata": {
  "kernelspec": {
   "display_name": "Python 3 (ipykernel)",
   "language": "python",
   "name": "python3"
  },
  "language_info": {
   "codemirror_mode": {
    "name": "ipython",
    "version": 3
   },
   "file_extension": ".py",
   "mimetype": "text/x-python",
   "name": "python",
   "nbconvert_exporter": "python",
   "pygments_lexer": "ipython3",
   "version": "3.11.5"
  }
 },
 "nbformat": 4,
 "nbformat_minor": 5
}
