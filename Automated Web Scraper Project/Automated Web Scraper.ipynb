{
 "cells": [
  {
   "cell_type": "code",
   "execution_count": null,
   "id": "0ad8a8b9-d721-4da8-b374-e51caf67fdfd",
   "metadata": {},
   "outputs": [],
   "source": [
    "import requests\n",
    "import pandas as pd\n",
    "import os\n",
    "import time\n",
    "from bs4 import BeautifulSoup\n",
    "from datetime import datetime"
   ]
  },
  {
   "cell_type": "code",
   "execution_count": 2,
   "id": "ecf9fe48-2892-42a9-8e8d-cdd4b2e72f66",
   "metadata": {},
   "outputs": [],
   "source": [
    "def automated_crypto_pull():\n",
    "\n",
    "    url = 'https://coinmarketcap.com/currencies/bitcoin/'\n",
    "    \n",
    "    page = requests.get(url)\n",
    "    \n",
    "    soup = BeautifulSoup(page.text,'html')\n",
    "    \n",
    "    crypto_name = soup.find('span' , class_ =\"sc-f70bb44c-0 dXQGRd base-text\").text\n",
    "    \n",
    "    crypto_price = soup.find('span', class_ = 'sc-f70bb44c-0 jxpCgO base-text').text\n",
    "    \n",
    "    final_price = crypto_price.replace('$','')\n",
    "    \n",
    "    date = datetime.now()\n",
    "    \n",
    "    dict = {'Crupto Name': crypto_name,\n",
    "            'Price':final_price,\n",
    "            'Timestamp' : date}\n",
    "    \n",
    "    df = pd.DataFrame([dict])\n",
    "    \n",
    "    if os.path.exists(r'F:\\Users\\Josh\\Documents\\Jupyter\\Automated Web Scraper Project\\Crypto_Automated_Web_Scrapper.csv'):\n",
    "        df.to_csv(r'F:\\Users\\Josh\\Documents\\Jupyter\\Automated Web Scraper Project\\Crypto_Automated_Web_Scrapper.csv', mode = 'a', header = False, index = False)\n",
    "    else:\n",
    "        df.to_csv(r'F:\\Users\\Josh\\Documents\\Jupyter\\Automated Web Scraper Project\\Crypto_Automated_Web_Scrapper.csv',index = False)\n",
    "    print(df)"
   ]
  },
  {
   "cell_type": "code",
   "execution_count": null,
   "id": "5c3fd625-e88a-49b7-a345-47e8ef8bc4a9",
   "metadata": {},
   "outputs": [
    {
     "name": "stdout",
     "output_type": "stream",
     "text": [
      "  Crupto Name      Price                  Timestamp\n",
      "0         BTC  46,192.96 2024-02-09 01:03:41.627132\n"
     ]
    }
   ],
   "source": [
    "while True:\n",
    "    automated_crypto_pull()\n",
    "    time.sleep(3600)"
   ]
  },
  {
   "cell_type": "code",
   "execution_count": null,
   "id": "e4191278-f778-4790-b2fd-235c85e271ed",
   "metadata": {},
   "outputs": [],
   "source": []
  }
 ],
 "metadata": {
  "kernelspec": {
   "display_name": "",
   "name": ""
  },
  "language_info": {
   "name": ""
  }
 },
 "nbformat": 4,
 "nbformat_minor": 5
}
