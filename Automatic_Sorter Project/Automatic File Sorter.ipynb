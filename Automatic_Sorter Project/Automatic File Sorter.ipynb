{
 "cells": [
  {
   "cell_type": "code",
   "execution_count": 1,
   "id": "6061cd1e-9740-4f2c-93ee-7287431bf46d",
   "metadata": {},
   "outputs": [],
   "source": [
    "import os, shutil\n",
    "import time"
   ]
  },
  {
   "cell_type": "code",
   "execution_count": 2,
   "id": "250a2b75-3e6d-40a9-a425-0eb43b489c03",
   "metadata": {},
   "outputs": [],
   "source": [
    "def automated_file_sorter():\n",
    "    \n",
    "    path = r'F:\\Users\\Josh\\Documents\\Jupyter\\Automatic_Sorter\\\\'\n",
    "    \n",
    "    folder_names = ['CSV Files', 'Text Files' , 'Image Files', 'TSV Files']\n",
    "    \n",
    "    for folder in folder_names:\n",
    "        if not os.path.exists(path + folder):\n",
    "            os.makedirs(path + folder)\n",
    "    \n",
    "    file_names = os.listdir(path)\n",
    "    \n",
    "    for file in file_names:\n",
    "        if '.csv' in file and not os.path.exists(path + 'CSV Files\\\\' + file):\n",
    "            shutil.move(path + file, path + 'CSV Files\\\\' + file)\n",
    "            \n",
    "        elif '.png' in file and not os.path.exists(path + 'Image Files\\\\' + file):\n",
    "            shutil.move(path + file, path + 'Image Files\\\\' + file)\n",
    "    \n",
    "        elif '.txt' in file and not os.path.exists(path + 'Text Files\\\\' + file):\n",
    "            shutil.move(path + file, path + 'Text Files\\\\' + file)\n",
    "    \n",
    "        elif '.tsv' in file and not os.path.exists(path + 'TSV Files\\\\' + file):\n",
    "            shutil.move(path + file, path + 'TSV Files\\\\' + file)"
   ]
  },
  {
   "cell_type": "code",
   "execution_count": null,
   "id": "9d572868-ad09-4b33-beaf-06b1f920773d",
   "metadata": {},
   "outputs": [],
   "source": [
    "while True:\n",
    "    automated_file_sorter()\n",
    "    time.sleep(3600)"
   ]
  },
  {
   "cell_type": "code",
   "execution_count": null,
   "id": "33eef9db-a5c8-4992-8786-8521299fbf65",
   "metadata": {},
   "outputs": [],
   "source": []
  }
 ],
 "metadata": {
  "kernelspec": {
   "display_name": "Python 3 (ipykernel)",
   "language": "python",
   "name": "python3"
  },
  "language_info": {
   "codemirror_mode": {
    "name": "ipython",
    "version": 3
   },
   "file_extension": ".py",
   "mimetype": "text/x-python",
   "name": "python",
   "nbconvert_exporter": "python",
   "pygments_lexer": "ipython3",
   "version": "3.11.5"
  }
 },
 "nbformat": 4,
 "nbformat_minor": 5
}
